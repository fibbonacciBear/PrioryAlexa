{
 "cells": [
  {
   "cell_type": "code",
   "execution_count": 6,
   "metadata": {},
   "outputs": [],
   "source": [
    "import pickle\n",
    "import pprint\n",
    "import boto3\n",
    "import re\n",
    "import os\n",
    "import hashlib\n",
    "\n",
    "FACT_FILE = \"facts.txt\"\n",
    "PRODUCTION = True\n",
    "\n",
    "\n",
    "# Assumes the default UTF-8\n",
    "\n",
    "\n",
    "def get_facts():\n",
    "    facts = []\n",
    "    with open (FACT_FILE, \"r\") as fileHandler:\n",
    "        # Read each line in loop\n",
    "        for line in fileHandler:\n",
    "            # As each line (except last one) will contain new line character, so strip that\n",
    "            line = line.strip()\n",
    "            if re.match(r'\\S+',line):\n",
    "                hash_object = hashlib.md5(line.encode())\n",
    "                key = hash_object.hexdigest()\n",
    "                facts.append({\"Fact\": line, \"Key\": str(key)})\n",
    "    return facts\n",
    "\n",
    "\n",
    "# boto3 is the AWS SDK library for Python.\n",
    "# We can use the low-level client to make API calls to DynamoDB.\n",
    "\n",
    "if PRODUCTION:\n",
    "     dynamodb = boto3.resource('dynamodb',\n",
    "                      aws_access_key_id=os.environ[\"DYNAMODB_ID\"],\n",
    "                      aws_secret_access_key=os.environ[\"DYNAMODB_KEY\"],\n",
    "                      region_name='us-west-1')\n",
    "\n",
    "else:      \n",
    "    dynamodb = boto3.resource('dynamodb',\n",
    "                      aws_access_key_id=\"fakeMyKeyId\",\n",
    "                      aws_secret_access_key=\"fakeSecretAccessKey\",\n",
    "                      region_name='us-west-1',\n",
    "                      endpoint_url='http://localhost:8000')\n",
    "\n",
    "table = dynamodb.Table('Facts')\n",
    "    \n",
    "\n",
    "facts = get_facts()\n",
    "\n",
    "\n",
    "# The BatchWriteItem API allows us to write multiple items to a table in one request.\n",
    "with table.batch_writer() as batch:\n",
    "    for fact in facts:\n",
    "        batch.put_item(Item=fact)\n",
    "\n",
    "\n",
    "        \n",
    "   "
   ]
  },
  {
   "cell_type": "code",
   "execution_count": null,
   "metadata": {},
   "outputs": [],
   "source": []
  }
 ],
 "metadata": {
  "kernelspec": {
   "display_name": "Python 3",
   "language": "python",
   "name": "python3"
  },
  "language_info": {
   "codemirror_mode": {
    "name": "ipython",
    "version": 3
   },
   "file_extension": ".py",
   "mimetype": "text/x-python",
   "name": "python",
   "nbconvert_exporter": "python",
   "pygments_lexer": "ipython3",
   "version": "3.7.3"
  }
 },
 "nbformat": 4,
 "nbformat_minor": 4
}
