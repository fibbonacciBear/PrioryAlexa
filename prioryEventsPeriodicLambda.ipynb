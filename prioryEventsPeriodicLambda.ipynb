{
 "cells": [
  {
   "cell_type": "code",
   "execution_count": 1,
   "metadata": {},
   "outputs": [
    {
     "name": "stdout",
     "output_type": "stream",
     "text": [
      "Downloaded calendar from website.\n",
      "Got 2 applicable calendar events.\n",
      "Found 2 items in DynamoDB Events Table.\n",
      "0 items from DynamoDB have been deleted.\n",
      "Populated DynamoDB\n"
     ]
    }
   ],
   "source": [
    "%run prioryEventsPeriodicLambda/prioryEventsPeriodicLambda.py\n",
    "PopulateDynamoDBEventTable.RUN_CODE_LOCAL = True\n",
    "if __name__ == \"__main__\":\n",
    "    prioryEventsPeriodicLambda(None, None)\n",
    "    "
   ]
  },
  {
   "cell_type": "code",
   "execution_count": null,
   "metadata": {},
   "outputs": [],
   "source": []
  },
  {
   "cell_type": "code",
   "execution_count": null,
   "metadata": {},
   "outputs": [],
   "source": []
  }
 ],
 "metadata": {
  "kernelspec": {
   "display_name": "Python 3",
   "language": "python",
   "name": "python3"
  },
  "language_info": {
   "codemirror_mode": {
    "name": "ipython",
    "version": 3
   },
   "file_extension": ".py",
   "mimetype": "text/x-python",
   "name": "python",
   "nbconvert_exporter": "python",
   "pygments_lexer": "ipython3",
   "version": "3.7.3"
  }
 },
 "nbformat": 4,
 "nbformat_minor": 4
}
